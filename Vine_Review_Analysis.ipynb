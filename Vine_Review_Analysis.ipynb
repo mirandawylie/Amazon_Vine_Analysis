{
 "metadata": {
  "language_info": {
   "codemirror_mode": {
    "name": "ipython",
    "version": 3
   },
   "file_extension": ".py",
   "mimetype": "text/x-python",
   "name": "python",
   "nbconvert_exporter": "python",
   "pygments_lexer": "ipython3",
   "version": "3.7.9"
  },
  "orig_nbformat": 4,
  "kernelspec": {
   "name": "pythondata",
   "display_name": "Python 3.7.9 64-bit ('PythonData': conda)"
  },
  "interpreter": {
   "hash": "46a0e7d6347cdf8bb8c5a9c80d9b5ff5f8511791019752c106af0ca457d75940"
  }
 },
 "nbformat": 4,
 "nbformat_minor": 2,
 "cells": [
  {
   "cell_type": "code",
   "execution_count": 94,
   "metadata": {},
   "outputs": [],
   "source": [
    "# Dependencies\n",
    "import pandas as pd"
   ]
  },
  {
   "cell_type": "code",
   "execution_count": 95,
   "metadata": {},
   "outputs": [
    {
     "output_type": "execute_result",
     "data": {
      "text/plain": [
       "              review_id  star_rating  helpful_votes  total_votes vine  \\\n",
       "0         R3EQSTM9PWRAL          3.0            0.0          0.0    N   \n",
       "1         RBWPRK17XKIXD          5.0            0.0          0.0    N   \n",
       "2         RRSLOAF273XFC          5.0            1.0          2.0    N   \n",
       "3        R3S8W9Q6SWIT8O          4.0            0.0          0.0    N   \n",
       "4        R3QQ6NSLRVBFJC          4.0            0.0          0.0    N   \n",
       "...                 ...          ...            ...          ...  ...   \n",
       "5331444  R10ITC6DGYFD3J          1.0           11.0         46.0    N   \n",
       "5331445  R16BFEO1ITQUP9          4.0            3.0          4.0    N   \n",
       "5331446   RJGC0F0GOD6QN          5.0            8.0         13.0    N   \n",
       "5331447  R2RTO9RPW3E7GE          5.0            1.0          8.0    N   \n",
       "5331448  R1F2ST77BCB5DZ          5.0            0.0          2.0    N   \n",
       "\n",
       "        verified_purchase  \n",
       "0                       Y  \n",
       "1                       Y  \n",
       "2                       Y  \n",
       "3                       Y  \n",
       "4                       Y  \n",
       "...                   ...  \n",
       "5331444                 N  \n",
       "5331445                 N  \n",
       "5331446                 N  \n",
       "5331447                 N  \n",
       "5331448                 N  \n",
       "\n",
       "[5331449 rows x 6 columns]"
      ],
      "text/html": "<div>\n<style scoped>\n    .dataframe tbody tr th:only-of-type {\n        vertical-align: middle;\n    }\n\n    .dataframe tbody tr th {\n        vertical-align: top;\n    }\n\n    .dataframe thead th {\n        text-align: right;\n    }\n</style>\n<table border=\"1\" class=\"dataframe\">\n  <thead>\n    <tr style=\"text-align: right;\">\n      <th></th>\n      <th>review_id</th>\n      <th>star_rating</th>\n      <th>helpful_votes</th>\n      <th>total_votes</th>\n      <th>vine</th>\n      <th>verified_purchase</th>\n    </tr>\n  </thead>\n  <tbody>\n    <tr>\n      <th>0</th>\n      <td>R3EQSTM9PWRAL</td>\n      <td>3.0</td>\n      <td>0.0</td>\n      <td>0.0</td>\n      <td>N</td>\n      <td>Y</td>\n    </tr>\n    <tr>\n      <th>1</th>\n      <td>RBWPRK17XKIXD</td>\n      <td>5.0</td>\n      <td>0.0</td>\n      <td>0.0</td>\n      <td>N</td>\n      <td>Y</td>\n    </tr>\n    <tr>\n      <th>2</th>\n      <td>RRSLOAF273XFC</td>\n      <td>5.0</td>\n      <td>1.0</td>\n      <td>2.0</td>\n      <td>N</td>\n      <td>Y</td>\n    </tr>\n    <tr>\n      <th>3</th>\n      <td>R3S8W9Q6SWIT8O</td>\n      <td>4.0</td>\n      <td>0.0</td>\n      <td>0.0</td>\n      <td>N</td>\n      <td>Y</td>\n    </tr>\n    <tr>\n      <th>4</th>\n      <td>R3QQ6NSLRVBFJC</td>\n      <td>4.0</td>\n      <td>0.0</td>\n      <td>0.0</td>\n      <td>N</td>\n      <td>Y</td>\n    </tr>\n    <tr>\n      <th>...</th>\n      <td>...</td>\n      <td>...</td>\n      <td>...</td>\n      <td>...</td>\n      <td>...</td>\n      <td>...</td>\n    </tr>\n    <tr>\n      <th>5331444</th>\n      <td>R10ITC6DGYFD3J</td>\n      <td>1.0</td>\n      <td>11.0</td>\n      <td>46.0</td>\n      <td>N</td>\n      <td>N</td>\n    </tr>\n    <tr>\n      <th>5331445</th>\n      <td>R16BFEO1ITQUP9</td>\n      <td>4.0</td>\n      <td>3.0</td>\n      <td>4.0</td>\n      <td>N</td>\n      <td>N</td>\n    </tr>\n    <tr>\n      <th>5331446</th>\n      <td>RJGC0F0GOD6QN</td>\n      <td>5.0</td>\n      <td>8.0</td>\n      <td>13.0</td>\n      <td>N</td>\n      <td>N</td>\n    </tr>\n    <tr>\n      <th>5331447</th>\n      <td>R2RTO9RPW3E7GE</td>\n      <td>5.0</td>\n      <td>1.0</td>\n      <td>8.0</td>\n      <td>N</td>\n      <td>N</td>\n    </tr>\n    <tr>\n      <th>5331448</th>\n      <td>R1F2ST77BCB5DZ</td>\n      <td>5.0</td>\n      <td>0.0</td>\n      <td>2.0</td>\n      <td>N</td>\n      <td>N</td>\n    </tr>\n  </tbody>\n</table>\n<p>5331449 rows × 6 columns</p>\n</div>"
     },
     "metadata": {},
     "execution_count": 95
    }
   ],
   "source": [
    "# 1. Read the vine data and store into a Pandas DataFrame\n",
    "vine_df = pd.read_csv(\"resources/vine_table.csv\")\n",
    "vine_df"
   ]
  },
  {
   "cell_type": "code",
   "execution_count": 96,
   "metadata": {},
   "outputs": [
    {
     "output_type": "execute_result",
     "data": {
      "text/plain": [
       "              review_id  star_rating  helpful_votes  total_votes vine  \\\n",
       "57       R2984F9VD9WDJB          1.0           37.0         46.0    N   \n",
       "178      R218TGWCIAZYNY          5.0          191.0        198.0    N   \n",
       "244       RGC2TLSBHLPZA          5.0           49.0         50.0    N   \n",
       "292      R2YYVOW2RYGRM8          5.0           27.0         28.0    N   \n",
       "353      R2X4WF89XICSB2          1.0           21.0         21.0    N   \n",
       "...                 ...          ...            ...          ...  ...   \n",
       "5331434  R2E9I59R1AUR7O          5.0           33.0         35.0    N   \n",
       "5331437  R32YWVU6WFM1DD          5.0           34.0         34.0    N   \n",
       "5331438  R14K2O125RAO00          5.0           26.0         28.0    N   \n",
       "5331439   RZ40FSRB4CJWS          5.0           47.0         47.0    N   \n",
       "5331444  R10ITC6DGYFD3J          1.0           11.0         46.0    N   \n",
       "\n",
       "        verified_purchase  \n",
       "57                      Y  \n",
       "178                     Y  \n",
       "244                     Y  \n",
       "292                     Y  \n",
       "353                     Y  \n",
       "...                   ...  \n",
       "5331434                 Y  \n",
       "5331437                 N  \n",
       "5331438                 N  \n",
       "5331439                 N  \n",
       "5331444                 N  \n",
       "\n",
       "[133416 rows x 6 columns]"
      ],
      "text/html": "<div>\n<style scoped>\n    .dataframe tbody tr th:only-of-type {\n        vertical-align: middle;\n    }\n\n    .dataframe tbody tr th {\n        vertical-align: top;\n    }\n\n    .dataframe thead th {\n        text-align: right;\n    }\n</style>\n<table border=\"1\" class=\"dataframe\">\n  <thead>\n    <tr style=\"text-align: right;\">\n      <th></th>\n      <th>review_id</th>\n      <th>star_rating</th>\n      <th>helpful_votes</th>\n      <th>total_votes</th>\n      <th>vine</th>\n      <th>verified_purchase</th>\n    </tr>\n  </thead>\n  <tbody>\n    <tr>\n      <th>57</th>\n      <td>R2984F9VD9WDJB</td>\n      <td>1.0</td>\n      <td>37.0</td>\n      <td>46.0</td>\n      <td>N</td>\n      <td>Y</td>\n    </tr>\n    <tr>\n      <th>178</th>\n      <td>R218TGWCIAZYNY</td>\n      <td>5.0</td>\n      <td>191.0</td>\n      <td>198.0</td>\n      <td>N</td>\n      <td>Y</td>\n    </tr>\n    <tr>\n      <th>244</th>\n      <td>RGC2TLSBHLPZA</td>\n      <td>5.0</td>\n      <td>49.0</td>\n      <td>50.0</td>\n      <td>N</td>\n      <td>Y</td>\n    </tr>\n    <tr>\n      <th>292</th>\n      <td>R2YYVOW2RYGRM8</td>\n      <td>5.0</td>\n      <td>27.0</td>\n      <td>28.0</td>\n      <td>N</td>\n      <td>Y</td>\n    </tr>\n    <tr>\n      <th>353</th>\n      <td>R2X4WF89XICSB2</td>\n      <td>1.0</td>\n      <td>21.0</td>\n      <td>21.0</td>\n      <td>N</td>\n      <td>Y</td>\n    </tr>\n    <tr>\n      <th>...</th>\n      <td>...</td>\n      <td>...</td>\n      <td>...</td>\n      <td>...</td>\n      <td>...</td>\n      <td>...</td>\n    </tr>\n    <tr>\n      <th>5331434</th>\n      <td>R2E9I59R1AUR7O</td>\n      <td>5.0</td>\n      <td>33.0</td>\n      <td>35.0</td>\n      <td>N</td>\n      <td>Y</td>\n    </tr>\n    <tr>\n      <th>5331437</th>\n      <td>R32YWVU6WFM1DD</td>\n      <td>5.0</td>\n      <td>34.0</td>\n      <td>34.0</td>\n      <td>N</td>\n      <td>N</td>\n    </tr>\n    <tr>\n      <th>5331438</th>\n      <td>R14K2O125RAO00</td>\n      <td>5.0</td>\n      <td>26.0</td>\n      <td>28.0</td>\n      <td>N</td>\n      <td>N</td>\n    </tr>\n    <tr>\n      <th>5331439</th>\n      <td>RZ40FSRB4CJWS</td>\n      <td>5.0</td>\n      <td>47.0</td>\n      <td>47.0</td>\n      <td>N</td>\n      <td>N</td>\n    </tr>\n    <tr>\n      <th>5331444</th>\n      <td>R10ITC6DGYFD3J</td>\n      <td>1.0</td>\n      <td>11.0</td>\n      <td>46.0</td>\n      <td>N</td>\n      <td>N</td>\n    </tr>\n  </tbody>\n</table>\n<p>133416 rows × 6 columns</p>\n</div>"
     },
     "metadata": {},
     "execution_count": 96
    }
   ],
   "source": [
    "#2. total_votes count is equal to or greater than 20 to\n",
    "high_votes = vine_df[(vine_df[\"total_votes\"] >= 20)]\n",
    "high_votes"
   ]
  },
  {
   "cell_type": "code",
   "execution_count": 97,
   "metadata": {},
   "outputs": [
    {
     "output_type": "stream",
     "name": "stderr",
     "text": [
      "/Users/randypants/opt/anaconda3/envs/PythonData/lib/python3.7/site-packages/ipykernel_launcher.py:2: SettingWithCopyWarning: \nA value is trying to be set on a copy of a slice from a DataFrame.\nTry using .loc[row_indexer,col_indexer] = value instead\n\nSee the caveats in the documentation: https://pandas.pydata.org/pandas-docs/stable/user_guide/indexing.html#returning-a-view-versus-a-copy\n  \n"
     ]
    },
    {
     "output_type": "execute_result",
     "data": {
      "text/plain": [
       "              review_id  star_rating  helpful_votes  total_votes vine  \\\n",
       "57       R2984F9VD9WDJB          1.0           37.0         46.0    N   \n",
       "178      R218TGWCIAZYNY          5.0          191.0        198.0    N   \n",
       "244       RGC2TLSBHLPZA          5.0           49.0         50.0    N   \n",
       "292      R2YYVOW2RYGRM8          5.0           27.0         28.0    N   \n",
       "353      R2X4WF89XICSB2          1.0           21.0         21.0    N   \n",
       "...                 ...          ...            ...          ...  ...   \n",
       "5331434  R2E9I59R1AUR7O          5.0           33.0         35.0    N   \n",
       "5331437  R32YWVU6WFM1DD          5.0           34.0         34.0    N   \n",
       "5331438  R14K2O125RAO00          5.0           26.0         28.0    N   \n",
       "5331439   RZ40FSRB4CJWS          5.0           47.0         47.0    N   \n",
       "5331444  R10ITC6DGYFD3J          1.0           11.0         46.0    N   \n",
       "\n",
       "        verified_purchase  helpful_votes_percentage  \n",
       "57                      Y                 80.434783  \n",
       "178                     Y                 96.464646  \n",
       "244                     Y                 98.000000  \n",
       "292                     Y                 96.428571  \n",
       "353                     Y                100.000000  \n",
       "...                   ...                       ...  \n",
       "5331434                 Y                 94.285714  \n",
       "5331437                 N                100.000000  \n",
       "5331438                 N                 92.857143  \n",
       "5331439                 N                100.000000  \n",
       "5331444                 N                 23.913043  \n",
       "\n",
       "[133416 rows x 7 columns]"
      ],
      "text/html": "<div>\n<style scoped>\n    .dataframe tbody tr th:only-of-type {\n        vertical-align: middle;\n    }\n\n    .dataframe tbody tr th {\n        vertical-align: top;\n    }\n\n    .dataframe thead th {\n        text-align: right;\n    }\n</style>\n<table border=\"1\" class=\"dataframe\">\n  <thead>\n    <tr style=\"text-align: right;\">\n      <th></th>\n      <th>review_id</th>\n      <th>star_rating</th>\n      <th>helpful_votes</th>\n      <th>total_votes</th>\n      <th>vine</th>\n      <th>verified_purchase</th>\n      <th>helpful_votes_percentage</th>\n    </tr>\n  </thead>\n  <tbody>\n    <tr>\n      <th>57</th>\n      <td>R2984F9VD9WDJB</td>\n      <td>1.0</td>\n      <td>37.0</td>\n      <td>46.0</td>\n      <td>N</td>\n      <td>Y</td>\n      <td>80.434783</td>\n    </tr>\n    <tr>\n      <th>178</th>\n      <td>R218TGWCIAZYNY</td>\n      <td>5.0</td>\n      <td>191.0</td>\n      <td>198.0</td>\n      <td>N</td>\n      <td>Y</td>\n      <td>96.464646</td>\n    </tr>\n    <tr>\n      <th>244</th>\n      <td>RGC2TLSBHLPZA</td>\n      <td>5.0</td>\n      <td>49.0</td>\n      <td>50.0</td>\n      <td>N</td>\n      <td>Y</td>\n      <td>98.000000</td>\n    </tr>\n    <tr>\n      <th>292</th>\n      <td>R2YYVOW2RYGRM8</td>\n      <td>5.0</td>\n      <td>27.0</td>\n      <td>28.0</td>\n      <td>N</td>\n      <td>Y</td>\n      <td>96.428571</td>\n    </tr>\n    <tr>\n      <th>353</th>\n      <td>R2X4WF89XICSB2</td>\n      <td>1.0</td>\n      <td>21.0</td>\n      <td>21.0</td>\n      <td>N</td>\n      <td>Y</td>\n      <td>100.000000</td>\n    </tr>\n    <tr>\n      <th>...</th>\n      <td>...</td>\n      <td>...</td>\n      <td>...</td>\n      <td>...</td>\n      <td>...</td>\n      <td>...</td>\n      <td>...</td>\n    </tr>\n    <tr>\n      <th>5331434</th>\n      <td>R2E9I59R1AUR7O</td>\n      <td>5.0</td>\n      <td>33.0</td>\n      <td>35.0</td>\n      <td>N</td>\n      <td>Y</td>\n      <td>94.285714</td>\n    </tr>\n    <tr>\n      <th>5331437</th>\n      <td>R32YWVU6WFM1DD</td>\n      <td>5.0</td>\n      <td>34.0</td>\n      <td>34.0</td>\n      <td>N</td>\n      <td>N</td>\n      <td>100.000000</td>\n    </tr>\n    <tr>\n      <th>5331438</th>\n      <td>R14K2O125RAO00</td>\n      <td>5.0</td>\n      <td>26.0</td>\n      <td>28.0</td>\n      <td>N</td>\n      <td>N</td>\n      <td>92.857143</td>\n    </tr>\n    <tr>\n      <th>5331439</th>\n      <td>RZ40FSRB4CJWS</td>\n      <td>5.0</td>\n      <td>47.0</td>\n      <td>47.0</td>\n      <td>N</td>\n      <td>N</td>\n      <td>100.000000</td>\n    </tr>\n    <tr>\n      <th>5331444</th>\n      <td>R10ITC6DGYFD3J</td>\n      <td>1.0</td>\n      <td>11.0</td>\n      <td>46.0</td>\n      <td>N</td>\n      <td>N</td>\n      <td>23.913043</td>\n    </tr>\n  </tbody>\n</table>\n<p>133416 rows × 7 columns</p>\n</div>"
     },
     "metadata": {},
     "execution_count": 97
    }
   ],
   "source": [
    "#3a. helpful_votes divided by total_votes is equal to or greater than 50%\n",
    "high_votes[\"helpful_votes_percentage\"] = (high_votes[\"helpful_votes\"]) / (high_votes[\"total_votes\"])* 100\n",
    "high_votes"
   ]
  },
  {
   "cell_type": "code",
   "execution_count": 98,
   "metadata": {},
   "outputs": [
    {
     "output_type": "execute_result",
     "data": {
      "text/plain": [
       "              review_id  star_rating  helpful_votes  total_votes vine  \\\n",
       "57       R2984F9VD9WDJB          1.0           37.0         46.0    N   \n",
       "178      R218TGWCIAZYNY          5.0          191.0        198.0    N   \n",
       "244       RGC2TLSBHLPZA          5.0           49.0         50.0    N   \n",
       "292      R2YYVOW2RYGRM8          5.0           27.0         28.0    N   \n",
       "353      R2X4WF89XICSB2          1.0           21.0         21.0    N   \n",
       "...                 ...          ...            ...          ...  ...   \n",
       "5331434  R2E9I59R1AUR7O          5.0           33.0         35.0    N   \n",
       "5331437  R32YWVU6WFM1DD          5.0           34.0         34.0    N   \n",
       "5331438  R14K2O125RAO00          5.0           26.0         28.0    N   \n",
       "5331439   RZ40FSRB4CJWS          5.0           47.0         47.0    N   \n",
       "5331444  R10ITC6DGYFD3J          1.0           11.0         46.0    N   \n",
       "\n",
       "        verified_purchase  helpful_votes_percentage  \n",
       "57                      Y                 80.434783  \n",
       "178                     Y                 96.464646  \n",
       "244                     Y                 98.000000  \n",
       "292                     Y                 96.428571  \n",
       "353                     Y                100.000000  \n",
       "...                   ...                       ...  \n",
       "5331434                 Y                 94.285714  \n",
       "5331437                 N                100.000000  \n",
       "5331438                 N                 92.857143  \n",
       "5331439                 N                100.000000  \n",
       "5331444                 N                 23.913043  \n",
       "\n",
       "[132644 rows x 7 columns]"
      ],
      "text/html": "<div>\n<style scoped>\n    .dataframe tbody tr th:only-of-type {\n        vertical-align: middle;\n    }\n\n    .dataframe tbody tr th {\n        vertical-align: top;\n    }\n\n    .dataframe thead th {\n        text-align: right;\n    }\n</style>\n<table border=\"1\" class=\"dataframe\">\n  <thead>\n    <tr style=\"text-align: right;\">\n      <th></th>\n      <th>review_id</th>\n      <th>star_rating</th>\n      <th>helpful_votes</th>\n      <th>total_votes</th>\n      <th>vine</th>\n      <th>verified_purchase</th>\n      <th>helpful_votes_percentage</th>\n    </tr>\n  </thead>\n  <tbody>\n    <tr>\n      <th>57</th>\n      <td>R2984F9VD9WDJB</td>\n      <td>1.0</td>\n      <td>37.0</td>\n      <td>46.0</td>\n      <td>N</td>\n      <td>Y</td>\n      <td>80.434783</td>\n    </tr>\n    <tr>\n      <th>178</th>\n      <td>R218TGWCIAZYNY</td>\n      <td>5.0</td>\n      <td>191.0</td>\n      <td>198.0</td>\n      <td>N</td>\n      <td>Y</td>\n      <td>96.464646</td>\n    </tr>\n    <tr>\n      <th>244</th>\n      <td>RGC2TLSBHLPZA</td>\n      <td>5.0</td>\n      <td>49.0</td>\n      <td>50.0</td>\n      <td>N</td>\n      <td>Y</td>\n      <td>98.000000</td>\n    </tr>\n    <tr>\n      <th>292</th>\n      <td>R2YYVOW2RYGRM8</td>\n      <td>5.0</td>\n      <td>27.0</td>\n      <td>28.0</td>\n      <td>N</td>\n      <td>Y</td>\n      <td>96.428571</td>\n    </tr>\n    <tr>\n      <th>353</th>\n      <td>R2X4WF89XICSB2</td>\n      <td>1.0</td>\n      <td>21.0</td>\n      <td>21.0</td>\n      <td>N</td>\n      <td>Y</td>\n      <td>100.000000</td>\n    </tr>\n    <tr>\n      <th>...</th>\n      <td>...</td>\n      <td>...</td>\n      <td>...</td>\n      <td>...</td>\n      <td>...</td>\n      <td>...</td>\n      <td>...</td>\n    </tr>\n    <tr>\n      <th>5331434</th>\n      <td>R2E9I59R1AUR7O</td>\n      <td>5.0</td>\n      <td>33.0</td>\n      <td>35.0</td>\n      <td>N</td>\n      <td>Y</td>\n      <td>94.285714</td>\n    </tr>\n    <tr>\n      <th>5331437</th>\n      <td>R32YWVU6WFM1DD</td>\n      <td>5.0</td>\n      <td>34.0</td>\n      <td>34.0</td>\n      <td>N</td>\n      <td>N</td>\n      <td>100.000000</td>\n    </tr>\n    <tr>\n      <th>5331438</th>\n      <td>R14K2O125RAO00</td>\n      <td>5.0</td>\n      <td>26.0</td>\n      <td>28.0</td>\n      <td>N</td>\n      <td>N</td>\n      <td>92.857143</td>\n    </tr>\n    <tr>\n      <th>5331439</th>\n      <td>RZ40FSRB4CJWS</td>\n      <td>5.0</td>\n      <td>47.0</td>\n      <td>47.0</td>\n      <td>N</td>\n      <td>N</td>\n      <td>100.000000</td>\n    </tr>\n    <tr>\n      <th>5331444</th>\n      <td>R10ITC6DGYFD3J</td>\n      <td>1.0</td>\n      <td>11.0</td>\n      <td>46.0</td>\n      <td>N</td>\n      <td>N</td>\n      <td>23.913043</td>\n    </tr>\n  </tbody>\n</table>\n<p>132644 rows × 7 columns</p>\n</div>"
     },
     "metadata": {},
     "execution_count": 98
    }
   ],
   "source": [
    "#3b. helpful_votes divided by total_votes is equal to or greater than 50%\n",
    "quality_votes = high_votes[(high_votes[\"helpful_votes_percentage\"] >= .5)]\n",
    "quality_votes"
   ]
  },
  {
   "cell_type": "code",
   "execution_count": 99,
   "metadata": {},
   "outputs": [
    {
     "output_type": "execute_result",
     "data": {
      "text/plain": [
       "              review_id  star_rating  helpful_votes  total_votes vine  \\\n",
       "38366     RG70K1HMY4LXX          4.0           37.0         44.0    Y   \n",
       "145857   R1DHGTNXDXJ0GB          5.0           78.0         93.0    Y   \n",
       "150655   R3B5S3OSA8N6AO          5.0           38.0         43.0    Y   \n",
       "173012   R29X0YBS0SBIUP          5.0           56.0         74.0    Y   \n",
       "223093   R1ZEDMCU6NYC8Q          3.0           26.0         27.0    Y   \n",
       "...                 ...          ...            ...          ...  ...   \n",
       "5277568  R36RASFZVN2Q8N          3.0           23.0         24.0    Y   \n",
       "5278013  R3GSPG69UD13JN          3.0          116.0        121.0    Y   \n",
       "5278147  R19KPT1VUJH0ZH          5.0           28.0         29.0    Y   \n",
       "5278790  R1LTHP49NUQMFH          4.0           33.0         33.0    Y   \n",
       "5278803  R19I5HOSQ73JPY          4.0          354.0        358.0    Y   \n",
       "\n",
       "        verified_purchase  helpful_votes_percentage  \n",
       "38366                   N                 84.090909  \n",
       "145857                  N                 83.870968  \n",
       "150655                  N                 88.372093  \n",
       "173012                  N                 75.675676  \n",
       "223093                  N                 96.296296  \n",
       "...                   ...                       ...  \n",
       "5277568                 N                 95.833333  \n",
       "5278013                 N                 95.867769  \n",
       "5278147                 N                 96.551724  \n",
       "5278790                 N                100.000000  \n",
       "5278803                 N                 98.882682  \n",
       "\n",
       "[505 rows x 7 columns]"
      ],
      "text/html": "<div>\n<style scoped>\n    .dataframe tbody tr th:only-of-type {\n        vertical-align: middle;\n    }\n\n    .dataframe tbody tr th {\n        vertical-align: top;\n    }\n\n    .dataframe thead th {\n        text-align: right;\n    }\n</style>\n<table border=\"1\" class=\"dataframe\">\n  <thead>\n    <tr style=\"text-align: right;\">\n      <th></th>\n      <th>review_id</th>\n      <th>star_rating</th>\n      <th>helpful_votes</th>\n      <th>total_votes</th>\n      <th>vine</th>\n      <th>verified_purchase</th>\n      <th>helpful_votes_percentage</th>\n    </tr>\n  </thead>\n  <tbody>\n    <tr>\n      <th>38366</th>\n      <td>RG70K1HMY4LXX</td>\n      <td>4.0</td>\n      <td>37.0</td>\n      <td>44.0</td>\n      <td>Y</td>\n      <td>N</td>\n      <td>84.090909</td>\n    </tr>\n    <tr>\n      <th>145857</th>\n      <td>R1DHGTNXDXJ0GB</td>\n      <td>5.0</td>\n      <td>78.0</td>\n      <td>93.0</td>\n      <td>Y</td>\n      <td>N</td>\n      <td>83.870968</td>\n    </tr>\n    <tr>\n      <th>150655</th>\n      <td>R3B5S3OSA8N6AO</td>\n      <td>5.0</td>\n      <td>38.0</td>\n      <td>43.0</td>\n      <td>Y</td>\n      <td>N</td>\n      <td>88.372093</td>\n    </tr>\n    <tr>\n      <th>173012</th>\n      <td>R29X0YBS0SBIUP</td>\n      <td>5.0</td>\n      <td>56.0</td>\n      <td>74.0</td>\n      <td>Y</td>\n      <td>N</td>\n      <td>75.675676</td>\n    </tr>\n    <tr>\n      <th>223093</th>\n      <td>R1ZEDMCU6NYC8Q</td>\n      <td>3.0</td>\n      <td>26.0</td>\n      <td>27.0</td>\n      <td>Y</td>\n      <td>N</td>\n      <td>96.296296</td>\n    </tr>\n    <tr>\n      <th>...</th>\n      <td>...</td>\n      <td>...</td>\n      <td>...</td>\n      <td>...</td>\n      <td>...</td>\n      <td>...</td>\n      <td>...</td>\n    </tr>\n    <tr>\n      <th>5277568</th>\n      <td>R36RASFZVN2Q8N</td>\n      <td>3.0</td>\n      <td>23.0</td>\n      <td>24.0</td>\n      <td>Y</td>\n      <td>N</td>\n      <td>95.833333</td>\n    </tr>\n    <tr>\n      <th>5278013</th>\n      <td>R3GSPG69UD13JN</td>\n      <td>3.0</td>\n      <td>116.0</td>\n      <td>121.0</td>\n      <td>Y</td>\n      <td>N</td>\n      <td>95.867769</td>\n    </tr>\n    <tr>\n      <th>5278147</th>\n      <td>R19KPT1VUJH0ZH</td>\n      <td>5.0</td>\n      <td>28.0</td>\n      <td>29.0</td>\n      <td>Y</td>\n      <td>N</td>\n      <td>96.551724</td>\n    </tr>\n    <tr>\n      <th>5278790</th>\n      <td>R1LTHP49NUQMFH</td>\n      <td>4.0</td>\n      <td>33.0</td>\n      <td>33.0</td>\n      <td>Y</td>\n      <td>N</td>\n      <td>100.000000</td>\n    </tr>\n    <tr>\n      <th>5278803</th>\n      <td>R19I5HOSQ73JPY</td>\n      <td>4.0</td>\n      <td>354.0</td>\n      <td>358.0</td>\n      <td>Y</td>\n      <td>N</td>\n      <td>98.882682</td>\n    </tr>\n  </tbody>\n</table>\n<p>505 rows × 7 columns</p>\n</div>"
     },
     "metadata": {},
     "execution_count": 99
    }
   ],
   "source": [
    "#4 reviews from Vine (paid)\n",
    "paid_votes = quality_votes[(quality_votes[\"vine\"] =='Y')]\n",
    "paid_votes"
   ]
  },
  {
   "cell_type": "code",
   "execution_count": 100,
   "metadata": {},
   "outputs": [
    {
     "output_type": "execute_result",
     "data": {
      "text/plain": [
       "              review_id  star_rating  helpful_votes  total_votes vine  \\\n",
       "57       R2984F9VD9WDJB          1.0           37.0         46.0    N   \n",
       "178      R218TGWCIAZYNY          5.0          191.0        198.0    N   \n",
       "244       RGC2TLSBHLPZA          5.0           49.0         50.0    N   \n",
       "292      R2YYVOW2RYGRM8          5.0           27.0         28.0    N   \n",
       "353      R2X4WF89XICSB2          1.0           21.0         21.0    N   \n",
       "...                 ...          ...            ...          ...  ...   \n",
       "5331434  R2E9I59R1AUR7O          5.0           33.0         35.0    N   \n",
       "5331437  R32YWVU6WFM1DD          5.0           34.0         34.0    N   \n",
       "5331438  R14K2O125RAO00          5.0           26.0         28.0    N   \n",
       "5331439   RZ40FSRB4CJWS          5.0           47.0         47.0    N   \n",
       "5331444  R10ITC6DGYFD3J          1.0           11.0         46.0    N   \n",
       "\n",
       "        verified_purchase  helpful_votes_percentage  \n",
       "57                      Y                 80.434783  \n",
       "178                     Y                 96.464646  \n",
       "244                     Y                 98.000000  \n",
       "292                     Y                 96.428571  \n",
       "353                     Y                100.000000  \n",
       "...                   ...                       ...  \n",
       "5331434                 Y                 94.285714  \n",
       "5331437                 N                100.000000  \n",
       "5331438                 N                 92.857143  \n",
       "5331439                 N                100.000000  \n",
       "5331444                 N                 23.913043  \n",
       "\n",
       "[132139 rows x 7 columns]"
      ],
      "text/html": "<div>\n<style scoped>\n    .dataframe tbody tr th:only-of-type {\n        vertical-align: middle;\n    }\n\n    .dataframe tbody tr th {\n        vertical-align: top;\n    }\n\n    .dataframe thead th {\n        text-align: right;\n    }\n</style>\n<table border=\"1\" class=\"dataframe\">\n  <thead>\n    <tr style=\"text-align: right;\">\n      <th></th>\n      <th>review_id</th>\n      <th>star_rating</th>\n      <th>helpful_votes</th>\n      <th>total_votes</th>\n      <th>vine</th>\n      <th>verified_purchase</th>\n      <th>helpful_votes_percentage</th>\n    </tr>\n  </thead>\n  <tbody>\n    <tr>\n      <th>57</th>\n      <td>R2984F9VD9WDJB</td>\n      <td>1.0</td>\n      <td>37.0</td>\n      <td>46.0</td>\n      <td>N</td>\n      <td>Y</td>\n      <td>80.434783</td>\n    </tr>\n    <tr>\n      <th>178</th>\n      <td>R218TGWCIAZYNY</td>\n      <td>5.0</td>\n      <td>191.0</td>\n      <td>198.0</td>\n      <td>N</td>\n      <td>Y</td>\n      <td>96.464646</td>\n    </tr>\n    <tr>\n      <th>244</th>\n      <td>RGC2TLSBHLPZA</td>\n      <td>5.0</td>\n      <td>49.0</td>\n      <td>50.0</td>\n      <td>N</td>\n      <td>Y</td>\n      <td>98.000000</td>\n    </tr>\n    <tr>\n      <th>292</th>\n      <td>R2YYVOW2RYGRM8</td>\n      <td>5.0</td>\n      <td>27.0</td>\n      <td>28.0</td>\n      <td>N</td>\n      <td>Y</td>\n      <td>96.428571</td>\n    </tr>\n    <tr>\n      <th>353</th>\n      <td>R2X4WF89XICSB2</td>\n      <td>1.0</td>\n      <td>21.0</td>\n      <td>21.0</td>\n      <td>N</td>\n      <td>Y</td>\n      <td>100.000000</td>\n    </tr>\n    <tr>\n      <th>...</th>\n      <td>...</td>\n      <td>...</td>\n      <td>...</td>\n      <td>...</td>\n      <td>...</td>\n      <td>...</td>\n      <td>...</td>\n    </tr>\n    <tr>\n      <th>5331434</th>\n      <td>R2E9I59R1AUR7O</td>\n      <td>5.0</td>\n      <td>33.0</td>\n      <td>35.0</td>\n      <td>N</td>\n      <td>Y</td>\n      <td>94.285714</td>\n    </tr>\n    <tr>\n      <th>5331437</th>\n      <td>R32YWVU6WFM1DD</td>\n      <td>5.0</td>\n      <td>34.0</td>\n      <td>34.0</td>\n      <td>N</td>\n      <td>N</td>\n      <td>100.000000</td>\n    </tr>\n    <tr>\n      <th>5331438</th>\n      <td>R14K2O125RAO00</td>\n      <td>5.0</td>\n      <td>26.0</td>\n      <td>28.0</td>\n      <td>N</td>\n      <td>N</td>\n      <td>92.857143</td>\n    </tr>\n    <tr>\n      <th>5331439</th>\n      <td>RZ40FSRB4CJWS</td>\n      <td>5.0</td>\n      <td>47.0</td>\n      <td>47.0</td>\n      <td>N</td>\n      <td>N</td>\n      <td>100.000000</td>\n    </tr>\n    <tr>\n      <th>5331444</th>\n      <td>R10ITC6DGYFD3J</td>\n      <td>1.0</td>\n      <td>11.0</td>\n      <td>46.0</td>\n      <td>N</td>\n      <td>N</td>\n      <td>23.913043</td>\n    </tr>\n  </tbody>\n</table>\n<p>132139 rows × 7 columns</p>\n</div>"
     },
     "metadata": {},
     "execution_count": 100
    }
   ],
   "source": [
    "#5 reviews not from Vine (unpaid)\n",
    "unpaid_votes = quality_votes[(quality_votes[\"vine\"] =='N')]\n",
    "unpaid_votes"
   ]
  },
  {
   "cell_type": "code",
   "execution_count": 101,
   "metadata": {},
   "outputs": [
    {
     "output_type": "execute_result",
     "data": {
      "text/plain": [
       "505"
      ]
     },
     "metadata": {},
     "execution_count": 101
    }
   ],
   "source": [
    "#6a total number of Vine reviews\n",
    "paid_number = paid_votes[\"star_rating\"].count()\n",
    "paid_number"
   ]
  },
  {
   "cell_type": "code",
   "execution_count": 106,
   "metadata": {},
   "outputs": [
    {
     "output_type": "execute_result",
     "data": {
      "text/plain": [
       "220"
      ]
     },
     "metadata": {},
     "execution_count": 106
    }
   ],
   "source": [
    "#6b total number of Vine 5-star reviews\n",
    "paid_votes_5star = paid_votes.loc[(paid_votes[\"star_rating\"] == 5)][\"star_rating\"].count()\n",
    "paid_votes_5star"
   ]
  },
  {
   "cell_type": "code",
   "execution_count": 107,
   "metadata": {},
   "outputs": [
    {
     "output_type": "execute_result",
     "data": {
      "text/plain": [
       "43.56435643564357"
      ]
     },
     "metadata": {},
     "execution_count": 107
    }
   ],
   "source": [
    "#6c percent of Vine 5-star reviews\n",
    "percentage_5_star_vine = (paid_votes_5star) / (paid_number) * 100\n",
    "percentage_5_star_vine"
   ]
  },
  {
   "cell_type": "code",
   "execution_count": 108,
   "metadata": {},
   "outputs": [
    {
     "output_type": "execute_result",
     "data": {
      "text/plain": [
       "132139"
      ]
     },
     "metadata": {},
     "execution_count": 108
    }
   ],
   "source": [
    "#7a total number of unpaid reviews\n",
    "unpaid_number = unpaid_votes [\"star_rating\"].count()\n",
    "unpaid_number"
   ]
  },
  {
   "cell_type": "code",
   "execution_count": 109,
   "metadata": {},
   "outputs": [
    {
     "output_type": "execute_result",
     "data": {
      "text/plain": [
       "75972"
      ]
     },
     "metadata": {},
     "execution_count": 109
    }
   ],
   "source": [
    "#7b total number of unpaid 5-star reviews\n",
    "unpaid_votes_5star = unpaid_votes.loc[(unpaid_votes[\"star_rating\"] >= 5)][\"star_rating\"].count()\n",
    "unpaid_votes_5star"
   ]
  },
  {
   "cell_type": "code",
   "execution_count": 110,
   "metadata": {},
   "outputs": [
    {
     "output_type": "execute_result",
     "data": {
      "text/plain": [
       "57.49400252764135"
      ]
     },
     "metadata": {},
     "execution_count": 110
    }
   ],
   "source": [
    "#7c percent of unpiad 5 star reviews\n",
    "percentage_5_star_unpaid = (unpaid_votes_5star) / (unpaid_number) * 100\n",
    "percentage_5_star_unpaid"
   ]
  }
 ]
}